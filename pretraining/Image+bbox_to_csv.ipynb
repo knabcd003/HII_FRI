{
 "cells": [
  {
   "cell_type": "code",
   "execution_count": 1,
   "id": "eca24aec-0cd9-467d-b1a4-3ff828186419",
   "metadata": {},
   "outputs": [],
   "source": [
    "from astropy.io import fits\n",
    "import pandas as pd"
   ]
  },
  {
   "cell_type": "code",
   "execution_count": 5,
   "id": "c7b883cf-aa87-43f2-af7d-f25b3a461b4c",
   "metadata": {},
   "outputs": [],
   "source": [
    "def put_in_csv(fits_file, bbox, csv_file_path):\n",
    "    with fits.open(fits_file) as hdul:\n",
    "        # Get the primary image data (assuming it’s in the first HDU)\n",
    "        image_data = hdul[0].data\n",
    "        # Extract dimensions (height, width)\n",
    "        height, width = image_data.shape \n",
    "    x_min = bbox[2]\n",
    "    y_min = bbox[0]\n",
    "    x_max = bbox[3]\n",
    "    y_max = bbox[1]\n",
    "    row = {\n",
    "        \"image_id\": fits_file.split('/')[-1],  # Example of extracting image ID from file path\n",
    "        \"x_min\": x_min,\n",
    "        \"y_min\": y_min,\n",
    "        \"x_max\": x_max,\n",
    "        \"y_max\": y_max,\n",
    "        \"width\": width,\n",
    "        \"height\": height\n",
    "    }\n",
    "    if not os.path.exists(csv_file_path):\n",
    "        # If the file doesn't exist, create it with headers\n",
    "        df = pd.DataFrame([row])\n",
    "        df.to_csv(csv_file_path, mode='w', header=True, index=False)\n",
    "    else:\n",
    "        # If the file exists, append without writing the header\n",
    "        df = pd.DataFrame([row])\n",
    "        df.to_csv(csv_file_path, mode='a', header=False, index=False)\n"
   ]
  },
  {
   "cell_type": "code",
   "execution_count": null,
   "id": "ff2e6f55-a52b-4d81-b44e-dfed1a5b8c89",
   "metadata": {},
   "outputs": [],
   "source": []
  }
 ],
 "metadata": {
  "kernelspec": {
   "display_name": "Python 3 (ipykernel)",
   "language": "python",
   "name": "python3"
  },
  "language_info": {
   "codemirror_mode": {
    "name": "ipython",
    "version": 3
   },
   "file_extension": ".py",
   "mimetype": "text/x-python",
   "name": "python",
   "nbconvert_exporter": "python",
   "pygments_lexer": "ipython3",
   "version": "3.11.5"
  }
 },
 "nbformat": 4,
 "nbformat_minor": 5
}
