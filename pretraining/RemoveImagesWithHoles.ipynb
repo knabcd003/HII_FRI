{
 "cells": [
  {
   "cell_type": "code",
   "execution_count": 11,
   "id": "05c0489c-864c-410f-b2fe-562a3eb2236e",
   "metadata": {},
   "outputs": [],
   "source": [
    "import os\n",
    "import numpy as np\n",
    "from astropy.io import fits\n",
    "import shutil\n",
    "\n",
    "def check_and_delete_subfolders_with_holes(parent_folder, threshold=4.0):\n",
    "    \"\"\"\n",
    "    Check subfolders in the parent folder, and delete the entire subfolder if any FITS file in it has holes exceeding the threshold.\n",
    "    \"\"\"\n",
    "    for subfolder in os.listdir(parent_folder):\n",
    "        subfolder_path = os.path.join(parent_folder, subfolder)\n",
    "\n",
    "        # Ensure we're processing a directory\n",
    "        if not os.path.isdir(subfolder_path):\n",
    "            continue\n",
    "\n",
    "        remove_subfolder = False\n",
    "\n",
    "        # Check each FITS file in the subfolder\n",
    "        for file in os.listdir(subfolder_path):\n",
    "            if file.endswith('.fits'):\n",
    "                file_path = os.path.join(subfolder_path, file)\n",
    "                try:\n",
    "                    with fits.open(file_path) as hdul:\n",
    "                        data = hdul[0].data\n",
    "                        if data is not None:\n",
    "                            total_pixels = data.size\n",
    "                            nan_pixels = np.sum(np.isnan(data))\n",
    "                            nan_percentage = (nan_pixels / total_pixels) * 100\n",
    "                            if nan_percentage > threshold:\n",
    "                                remove_subfolder = True\n",
    "                                break\n",
    "                except Exception as e:\n",
    "                    print(f\"Error processing {file} in subfolder '{subfolder}': {e}\")\n",
    "                    remove_subfolder = True  # Assume deletion if there's an issue with any file\n",
    "                    break\n",
    "\n",
    "        # Remove the subfolder if any FITS file fails the threshold\n",
    "        if remove_subfolder:\n",
    "            print(f\"Deleting subfolder '{subfolder_path}'\")\n",
    "            shutil.rmtree(subfolder_path)\n",
    "\n",
    "\n",
    "your_parent_folder_path = \"L3a\"\n",
    "check_and_delete_subfolders_with_holes(your_parent_folder_path)"
   ]
  },
  {
   "cell_type": "code",
   "execution_count": null,
   "id": "2d32fe76-e389-49a3-8d92-29ddcc9b85ac",
   "metadata": {},
   "outputs": [],
   "source": []
  }
 ],
 "metadata": {
  "kernelspec": {
   "display_name": "Python 3 (ipykernel)",
   "language": "python",
   "name": "python3"
  },
  "language_info": {
   "codemirror_mode": {
    "name": "ipython",
    "version": 3
   },
   "file_extension": ".py",
   "mimetype": "text/x-python",
   "name": "python",
   "nbconvert_exporter": "python",
   "pygments_lexer": "ipython3",
   "version": "3.11.5"
  }
 },
 "nbformat": 4,
 "nbformat_minor": 5
}
